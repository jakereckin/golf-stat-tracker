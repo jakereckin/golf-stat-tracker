{
 "cells": [
  {
   "cell_type": "code",
   "execution_count": 8,
   "metadata": {},
   "outputs": [],
   "source": [
    "import sqlitecloud\n",
    "import pandas as pd"
   ]
  },
  {
   "cell_type": "code",
   "execution_count": null,
   "metadata": {},
   "outputs": [],
   "source": [
    "connection = 'sqlitecloud://cefglmy2hz.g5.sqlite.cloud:8860/golf_rounds?apikey=E5VDi6a23EedLpB9bxbrNwAZrDccL5oFadSk74eAnUo'\n",
    "strokes_gained_data = ''"
   ]
  },
  {
   "cell_type": "code",
   "execution_count": 20,
   "metadata": {},
   "outputs": [
    {
     "data": {
      "application/vnd.microsoft.datawrangler.viewer.v0+json": {
       "columns": [
        {
         "name": "index",
         "rawType": "int64",
         "type": "integer"
        },
        {
         "name": "Dist",
         "rawType": "int64",
         "type": "integer"
        },
        {
         "name": "Fairway",
         "rawType": "float64",
         "type": "float"
        },
        {
         "name": "Rough",
         "rawType": "float64",
         "type": "float"
        },
        {
         "name": "Sand",
         "rawType": "float64",
         "type": "float"
        },
        {
         "name": "Recovery",
         "rawType": "float64",
         "type": "float"
        },
        {
         "name": "Green",
         "rawType": "float64",
         "type": "float"
        },
        {
         "name": "Tee",
         "rawType": "float64",
         "type": "float"
        }
       ],
       "conversionMethod": "pd.DataFrame",
       "ref": "c31e4b60-e313-4e71-952c-1db9d932c799",
       "rows": [
        [
         "0",
         "0",
         "0.0",
         "0.0",
         "0.0",
         "0.0",
         "0.0",
         "0.0"
        ],
        [
         "1",
         "1",
         null,
         null,
         null,
         null,
         "1.01",
         null
        ],
        [
         "2",
         "2",
         null,
         null,
         null,
         null,
         "1.025",
         null
        ],
        [
         "3",
         "3",
         null,
         null,
         null,
         null,
         "1.04",
         null
        ],
        [
         "4",
         "4",
         "2.42",
         "2.5",
         "2.5",
         null,
         "1.13",
         null
        ],
        [
         "5",
         "5",
         "2.42",
         "2.5",
         "2.5",
         null,
         "1.23",
         null
        ],
        [
         "6",
         "6",
         "2.42",
         "2.5",
         "2.5",
         null,
         "1.34",
         null
        ],
        [
         "7",
         "7",
         "2.42",
         "2.5",
         "2.5",
         null,
         "1.42",
         null
        ],
        [
         "8",
         "8",
         "2.42",
         "2.5",
         "2.5",
         null,
         "1.5",
         null
        ],
        [
         "9",
         "9",
         "2.42",
         "2.5",
         "2.5",
         null,
         "1.555",
         null
        ],
        [
         "10",
         "10",
         "2.42",
         "2.5",
         "2.5",
         "3.45",
         "1.61",
         null
        ],
        [
         "11",
         "11",
         "2.42",
         "2.5",
         "2.5",
         "3.456",
         "1.644",
         null
        ],
        [
         "12",
         "12",
         "2.42",
         "2.5",
         "2.5",
         "3.462",
         "1.678",
         null
        ],
        [
         "13",
         "13",
         "2.42",
         "2.5",
         "2.5",
         "3.468",
         "1.712",
         null
        ],
        [
         "14",
         "14",
         "2.42",
         "2.5",
         "2.5",
         "3.474",
         "1.746",
         null
        ],
        [
         "15",
         "15",
         "2.42",
         "2.5",
         "2.528",
         "3.48",
         "1.772",
         null
        ],
        [
         "16",
         "16",
         "2.42",
         "2.5",
         "2.556",
         "3.486",
         "1.798",
         null
        ],
        [
         "17",
         "17",
         "2.422",
         "2.5",
         "2.584",
         "3.492",
         "1.816",
         null
        ],
        [
         "18",
         "18",
         "2.424",
         "2.5",
         "2.612",
         "3.498",
         "1.834",
         null
        ],
        [
         "19",
         "19",
         "2.426",
         "2.5",
         "2.64",
         "3.504",
         "1.852",
         null
        ],
        [
         "20",
         "20",
         "2.428",
         "2.512",
         "2.58",
         "3.51",
         "1.87",
         null
        ],
        [
         "21",
         "21",
         "2.43",
         "2.525",
         "2.52",
         "3.516",
         "1.882",
         null
        ],
        [
         "22",
         "22",
         "2.44",
         "2.538",
         "2.535",
         "3.522",
         "1.894",
         null
        ],
        [
         "23",
         "23",
         "2.45",
         "2.55",
         "2.55",
         "3.528",
         "1.905",
         null
        ],
        [
         "24",
         "24",
         "2.46",
         "2.564",
         "2.565",
         "3.534",
         "1.916",
         null
        ],
        [
         "25",
         "25",
         "2.47",
         "2.579",
         "2.58",
         "3.54",
         "1.927",
         null
        ],
        [
         "26",
         "26",
         "2.48",
         "2.593",
         "2.595",
         "3.546",
         "1.938",
         null
        ],
        [
         "27",
         "27",
         "2.489",
         "2.608",
         "2.61",
         "3.552",
         "1.949",
         null
        ],
        [
         "28",
         "28",
         "2.498",
         "2.622",
         "2.615",
         "3.558",
         "1.96",
         null
        ],
        [
         "29",
         "29",
         "2.507",
         "2.637",
         "2.62",
         "3.564",
         "1.97",
         null
        ],
        [
         "30",
         "30",
         "2.516",
         "2.651",
         "2.624",
         "3.57",
         "1.98",
         null
        ],
        [
         "31",
         "31",
         "2.525",
         "2.666",
         "2.629",
         "3.584",
         "1.988",
         null
        ],
        [
         "32",
         "32",
         "2.535",
         "2.68",
         "2.634",
         "3.598",
         "1.996",
         null
        ],
        [
         "33",
         "33",
         "2.544",
         "2.696",
         "2.639",
         "3.612",
         "2.004",
         null
        ],
        [
         "34",
         "34",
         "2.553",
         "2.712",
         "2.643",
         "3.626",
         "2.012",
         null
        ],
        [
         "35",
         "35",
         "2.562",
         "2.728",
         "2.648",
         "3.64",
         "2.02",
         null
        ],
        [
         "36",
         "36",
         "2.571",
         "2.744",
         "2.653",
         "3.654",
         "2.028",
         null
        ],
        [
         "37",
         "37",
         "2.58",
         "2.76",
         "2.658",
         "3.668",
         "2.036",
         null
        ],
        [
         "38",
         "38",
         "2.587",
         "2.766",
         "2.662",
         "3.682",
         "2.044",
         null
        ],
        [
         "39",
         "39",
         "2.595",
         "2.771",
         "2.667",
         "3.696",
         "2.052",
         null
        ],
        [
         "40",
         "40",
         "2.602",
         "2.777",
         "2.672",
         "3.71",
         "2.06",
         null
        ],
        [
         "41",
         "41",
         "2.609",
         "2.782",
         "2.677",
         "3.718",
         "2.068",
         null
        ],
        [
         "42",
         "42",
         "2.616",
         "2.788",
         "2.682",
         "3.726",
         "2.075",
         null
        ],
        [
         "43",
         "43",
         "2.624",
         "2.793",
         "2.686",
         "3.734",
         "2.082",
         null
        ],
        [
         "44",
         "44",
         "2.631",
         "2.799",
         "2.691",
         "3.742",
         "2.09",
         null
        ],
        [
         "45",
         "45",
         "2.638",
         "2.804",
         "2.696",
         "3.75",
         "2.098",
         null
        ],
        [
         "46",
         "46",
         "2.645",
         "2.81",
         "2.701",
         "3.758",
         "2.105",
         null
        ],
        [
         "47",
         "47",
         "2.653",
         "2.816",
         "2.705",
         "3.766",
         "2.112",
         null
        ],
        [
         "48",
         "48",
         "2.66",
         "2.821",
         "2.71",
         "3.774",
         "2.12",
         null
        ],
        [
         "49",
         "49",
         "2.667",
         "2.827",
         "2.715",
         "3.782",
         "2.128",
         null
        ]
       ],
       "shape": {
        "columns": 7,
        "rows": 651
       }
      },
      "text/html": [
       "<div>\n",
       "<style scoped>\n",
       "    .dataframe tbody tr th:only-of-type {\n",
       "        vertical-align: middle;\n",
       "    }\n",
       "\n",
       "    .dataframe tbody tr th {\n",
       "        vertical-align: top;\n",
       "    }\n",
       "\n",
       "    .dataframe thead th {\n",
       "        text-align: right;\n",
       "    }\n",
       "</style>\n",
       "<table border=\"1\" class=\"dataframe\">\n",
       "  <thead>\n",
       "    <tr style=\"text-align: right;\">\n",
       "      <th></th>\n",
       "      <th>Dist</th>\n",
       "      <th>Fairway</th>\n",
       "      <th>Rough</th>\n",
       "      <th>Sand</th>\n",
       "      <th>Recovery</th>\n",
       "      <th>Green</th>\n",
       "      <th>Tee</th>\n",
       "    </tr>\n",
       "  </thead>\n",
       "  <tbody>\n",
       "    <tr>\n",
       "      <th>0</th>\n",
       "      <td>0</td>\n",
       "      <td>0.00</td>\n",
       "      <td>0.00</td>\n",
       "      <td>0.00</td>\n",
       "      <td>0.00</td>\n",
       "      <td>0.000</td>\n",
       "      <td>0.000</td>\n",
       "    </tr>\n",
       "    <tr>\n",
       "      <th>1</th>\n",
       "      <td>1</td>\n",
       "      <td>NaN</td>\n",
       "      <td>NaN</td>\n",
       "      <td>NaN</td>\n",
       "      <td>NaN</td>\n",
       "      <td>1.010</td>\n",
       "      <td>NaN</td>\n",
       "    </tr>\n",
       "    <tr>\n",
       "      <th>2</th>\n",
       "      <td>2</td>\n",
       "      <td>NaN</td>\n",
       "      <td>NaN</td>\n",
       "      <td>NaN</td>\n",
       "      <td>NaN</td>\n",
       "      <td>1.025</td>\n",
       "      <td>NaN</td>\n",
       "    </tr>\n",
       "    <tr>\n",
       "      <th>3</th>\n",
       "      <td>3</td>\n",
       "      <td>NaN</td>\n",
       "      <td>NaN</td>\n",
       "      <td>NaN</td>\n",
       "      <td>NaN</td>\n",
       "      <td>1.040</td>\n",
       "      <td>NaN</td>\n",
       "    </tr>\n",
       "    <tr>\n",
       "      <th>4</th>\n",
       "      <td>4</td>\n",
       "      <td>2.42</td>\n",
       "      <td>2.50</td>\n",
       "      <td>2.50</td>\n",
       "      <td>NaN</td>\n",
       "      <td>1.130</td>\n",
       "      <td>NaN</td>\n",
       "    </tr>\n",
       "    <tr>\n",
       "      <th>...</th>\n",
       "      <td>...</td>\n",
       "      <td>...</td>\n",
       "      <td>...</td>\n",
       "      <td>...</td>\n",
       "      <td>...</td>\n",
       "      <td>...</td>\n",
       "      <td>...</td>\n",
       "    </tr>\n",
       "    <tr>\n",
       "      <th>646</th>\n",
       "      <td>646</td>\n",
       "      <td>3.70</td>\n",
       "      <td>3.74</td>\n",
       "      <td>3.81</td>\n",
       "      <td>5.58</td>\n",
       "      <td>NaN</td>\n",
       "      <td>5.130</td>\n",
       "    </tr>\n",
       "    <tr>\n",
       "      <th>647</th>\n",
       "      <td>647</td>\n",
       "      <td>3.70</td>\n",
       "      <td>3.74</td>\n",
       "      <td>3.81</td>\n",
       "      <td>5.58</td>\n",
       "      <td>NaN</td>\n",
       "      <td>5.135</td>\n",
       "    </tr>\n",
       "    <tr>\n",
       "      <th>648</th>\n",
       "      <td>648</td>\n",
       "      <td>3.70</td>\n",
       "      <td>3.74</td>\n",
       "      <td>3.81</td>\n",
       "      <td>5.58</td>\n",
       "      <td>NaN</td>\n",
       "      <td>5.140</td>\n",
       "    </tr>\n",
       "    <tr>\n",
       "      <th>649</th>\n",
       "      <td>649</td>\n",
       "      <td>3.70</td>\n",
       "      <td>3.74</td>\n",
       "      <td>3.81</td>\n",
       "      <td>5.58</td>\n",
       "      <td>NaN</td>\n",
       "      <td>5.145</td>\n",
       "    </tr>\n",
       "    <tr>\n",
       "      <th>650</th>\n",
       "      <td>650</td>\n",
       "      <td>3.70</td>\n",
       "      <td>3.74</td>\n",
       "      <td>3.81</td>\n",
       "      <td>5.58</td>\n",
       "      <td>NaN</td>\n",
       "      <td>5.150</td>\n",
       "    </tr>\n",
       "  </tbody>\n",
       "</table>\n",
       "<p>651 rows × 7 columns</p>\n",
       "</div>"
      ],
      "text/plain": [
       "     Dist  Fairway  Rough  Sand  Recovery  Green    Tee\n",
       "0       0     0.00   0.00  0.00      0.00  0.000  0.000\n",
       "1       1      NaN    NaN   NaN       NaN  1.010    NaN\n",
       "2       2      NaN    NaN   NaN       NaN  1.025    NaN\n",
       "3       3      NaN    NaN   NaN       NaN  1.040    NaN\n",
       "4       4     2.42   2.50  2.50       NaN  1.130    NaN\n",
       "..    ...      ...    ...   ...       ...    ...    ...\n",
       "646   646     3.70   3.74  3.81      5.58    NaN  5.130\n",
       "647   647     3.70   3.74  3.81      5.58    NaN  5.135\n",
       "648   648     3.70   3.74  3.81      5.58    NaN  5.140\n",
       "649   649     3.70   3.74  3.81      5.58    NaN  5.145\n",
       "650   650     3.70   3.74  3.81      5.58    NaN  5.150\n",
       "\n",
       "[651 rows x 7 columns]"
      ]
     },
     "execution_count": 20,
     "metadata": {},
     "output_type": "execute_result"
    }
   ],
   "source": [
    "strokes_expected_sql = \"\"\"\n",
    "SELECT * FROM STROKES_GAINED_EXPECTED\n",
    "\"\"\"\n",
    "\n",
    "excel_file = pd.read_excel(r'C:\\Users\\jaker\\OneDrive\\Data_Files\\golf-stat-tracker\\data\\sg_baseline.xlsx')\n",
    "excel_file"
   ]
  },
  {
   "cell_type": "code",
   "execution_count": 12,
   "metadata": {},
   "outputs": [],
   "source": [
    "def read_sql(sql, connection):\n",
    "    with sqlitecloud.connect(connection) as conn:\n",
    "        data = pd.read_sql(sql, conn)\n",
    "    return data"
   ]
  },
  {
   "cell_type": "code",
   "execution_count": 13,
   "metadata": {},
   "outputs": [
    {
     "name": "stderr",
     "output_type": "stream",
     "text": [
      "C:\\Users\\jaker\\AppData\\Local\\Temp\\ipykernel_18896\\2227474807.py:3: UserWarning: pandas only supports SQLAlchemy connectable (engine/connection) or database string URI or sqlite3 DBAPI2 connection. Other DBAPI2 objects are not tested. Please consider using SQLAlchemy.\n",
      "  data = pd.read_sql(sql, conn)\n"
     ]
    },
    {
     "data": {
      "application/vnd.microsoft.datawrangler.viewer.v0+json": {
       "columns": [
        {
         "name": "index",
         "rawType": "int64",
         "type": "integer"
        },
        {
         "name": "DIST",
         "rawType": "int64",
         "type": "integer"
        },
        {
         "name": "FAIRWAY",
         "rawType": "float64",
         "type": "float"
        },
        {
         "name": "ROUGH",
         "rawType": "float64",
         "type": "float"
        },
        {
         "name": "SAND",
         "rawType": "float64",
         "type": "float"
        },
        {
         "name": "RECOVERY",
         "rawType": "float64",
         "type": "float"
        },
        {
         "name": "GREEN",
         "rawType": "float64",
         "type": "float"
        },
        {
         "name": "TEE",
         "rawType": "float64",
         "type": "float"
        }
       ],
       "conversionMethod": "pd.DataFrame",
       "ref": "8fcf7958-9ff0-47c0-b238-eaafbec379f9",
       "rows": [
        [
         "0",
         "0",
         "0.0",
         "0.0",
         "0.0",
         "0.0",
         "0.0",
         "0.0"
        ]
       ],
       "shape": {
        "columns": 7,
        "rows": 1
       }
      },
      "text/html": [
       "<div>\n",
       "<style scoped>\n",
       "    .dataframe tbody tr th:only-of-type {\n",
       "        vertical-align: middle;\n",
       "    }\n",
       "\n",
       "    .dataframe tbody tr th {\n",
       "        vertical-align: top;\n",
       "    }\n",
       "\n",
       "    .dataframe thead th {\n",
       "        text-align: right;\n",
       "    }\n",
       "</style>\n",
       "<table border=\"1\" class=\"dataframe\">\n",
       "  <thead>\n",
       "    <tr style=\"text-align: right;\">\n",
       "      <th></th>\n",
       "      <th>DIST</th>\n",
       "      <th>FAIRWAY</th>\n",
       "      <th>ROUGH</th>\n",
       "      <th>SAND</th>\n",
       "      <th>RECOVERY</th>\n",
       "      <th>GREEN</th>\n",
       "      <th>TEE</th>\n",
       "    </tr>\n",
       "  </thead>\n",
       "  <tbody>\n",
       "    <tr>\n",
       "      <th>0</th>\n",
       "      <td>0</td>\n",
       "      <td>0.0</td>\n",
       "      <td>0.0</td>\n",
       "      <td>0.0</td>\n",
       "      <td>0.0</td>\n",
       "      <td>0.0</td>\n",
       "      <td>0.0</td>\n",
       "    </tr>\n",
       "  </tbody>\n",
       "</table>\n",
       "</div>"
      ],
      "text/plain": [
       "   DIST  FAIRWAY  ROUGH  SAND  RECOVERY  GREEN  TEE\n",
       "0     0      0.0    0.0   0.0       0.0    0.0  0.0"
      ]
     },
     "execution_count": 13,
     "metadata": {},
     "output_type": "execute_result"
    }
   ],
   "source": [
    "strokes_gained_expected = read_sql(strokes_expected_sql, connection)\n",
    "strokes_gained_expected"
   ]
  }
 ],
 "metadata": {
  "kernelspec": {
   "display_name": "base",
   "language": "python",
   "name": "python3"
  },
  "language_info": {
   "codemirror_mode": {
    "name": "ipython",
    "version": 3
   },
   "file_extension": ".py",
   "mimetype": "text/x-python",
   "name": "python",
   "nbconvert_exporter": "python",
   "pygments_lexer": "ipython3",
   "version": "3.12.7"
  }
 },
 "nbformat": 4,
 "nbformat_minor": 2
}
